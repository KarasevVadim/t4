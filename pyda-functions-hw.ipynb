{
 "cells": [
  {
   "cell_type": "markdown",
   "metadata": {},
   "source": [
    "# Задание к лекции \"Функции\".\n",
    "Для зачета необходимо правильно выполнить 4 заданий из 6.  \n",
    "Для зачета с отличием – все 6."
   ]
  },
  {
   "cell_type": "markdown",
   "metadata": {},
   "source": [
    "## Задание 1"
   ]
  },
  {
   "cell_type": "markdown",
   "metadata": {},
   "source": [
    "Дан список вида:"
   ]
  },
  {
   "cell_type": "code",
   "execution_count": 1,
   "metadata": {},
   "outputs": [],
   "source": [
    "data = [\n",
    "    [13, 25, 23, 34],\n",
    "    [45, 32, 44, 47],\n",
    "    [12, 33, 23, 95],\n",
    "    [13, 53, 34, 35]\n",
    "]"
   ]
  },
  {
   "cell_type": "code",
   "execution_count": 2,
   "metadata": {},
   "outputs": [
    {
     "data": {
      "text/plain": [
       "103"
      ]
     },
     "execution_count": 2,
     "metadata": {},
     "output_type": "execute_result"
    }
   ],
   "source": [
    "def sum_dia(dddata):\n",
    "        a=0\n",
    "        for i in range(0,len(dddata)):\n",
    "    \n",
    "            a+=data[i][i]\n",
    "        return a\n",
    "    \n",
    "sum_dia(data)\n",
    "    \n",
    "    \n",
    "    \n",
    "\n",
    "\n",
    "    "
   ]
  },
  {
   "cell_type": "markdown",
   "metadata": {},
   "source": [
    "Напишите функцию, которая возвращает сумму элементов на диагонали. Т. е. 13+32+23+35.  \n",
    "Список может быть любой длины, но всегда является \"квадратным\" (количество элементов во вложенных списках равно их количеству)."
   ]
  },
  {
   "cell_type": "markdown",
   "metadata": {},
   "source": [
    "## Задание 2"
   ]
  },
  {
   "cell_type": "markdown",
   "metadata": {},
   "source": [
    "Напишите функцию, возвращающую сумму первых n чисел Фибоначчи (для этого вам может понадобится ознакомиться с рекурсией)."
   ]
  },
  {
   "cell_type": "code",
   "execution_count": 3,
   "metadata": {},
   "outputs": [
    {
     "name": "stdout",
     "output_type": "stream",
     "text": [
      "Введите число чисел Фибоначчи, для которых необходимо посчитать сумму: 9\n",
      "54\n"
     ]
    }
   ],
   "source": [
    "\n",
    "\n",
    "def sum_fi(n):\n",
    "    a1=0\n",
    "    a2=1\n",
    "    fi_n=1\n",
    "    a3=0\n",
    "    if n==1: return 0\n",
    "    elif n==2: return 1\n",
    "\n",
    "    for i in range(3,n+1):\n",
    "        \n",
    "        a3=a1+a2\n",
    "        fi_n+=a1+a2\n",
    "        a1=a2\n",
    "        a2=a3\n",
    "        \n",
    "    return fi_n\n",
    "        \n",
    "n=int(input(\"Введите число чисел Фибоначчи, для которых необходимо посчитать сумму: \"))        \n",
    "        \n",
    "    \n",
    "\n",
    "print(sum_fi(n))"
   ]
  },
  {
   "cell_type": "code",
   "execution_count": 4,
   "metadata": {},
   "outputs": [],
   "source": [
    "## Задание 3"
   ]
  },
  {
   "cell_type": "code",
   "execution_count": 5,
   "metadata": {},
   "outputs": [],
   "source": [
    "cook_book = {\n",
    "  'салат': [\n",
    "     {'ingridient_name': 'сыр', 'quantity': 50, 'measure': 'гр'},\n",
    "     {'ingridient_name': 'томаты', 'quantity': 20, 'measure': 'гр'},\n",
    "     {'ingridient_name': 'огурцы', 'quantity': 20, 'measure': 'гр'},\n",
    "     {'ingridient_name': 'маслины', 'quantity': 10, 'measure': 'гр'},\n",
    "     {'ingridient_name': 'оливковое масло', 'quantity': 20, 'measure': 'мл'},\n",
    "     {'ingridient_name': 'салат', 'quantity': 10, 'measure': 'гр'},\n",
    "     {'ingridient_name': 'перец', 'quantity': 20, 'measure': 'гр'}\n",
    "    ],\n",
    "  'пицца': [\n",
    "     {'ingridient_name': 'сыр', 'quantity': 20, 'measure': 'гр'},\n",
    "     {'ingridient_name': 'колбаса', 'quantity': 30, 'measure': 'гр'},\n",
    "     {'ingridient_name': 'бекон', 'quantity': 30, 'measure': 'гр'},\n",
    "     {'ingridient_name': 'оливки', 'quantity': 10, 'measure': 'гр'},\n",
    "     {'ingridient_name': 'томаты', 'quantity': 20, 'measure': 'гр'},\n",
    "     {'ingridient_name': 'тесто', 'quantity': 100, 'measure': 'гр'},   \n",
    "    ],\n",
    "  'лимонад': [\n",
    "     {'ingridient_name': 'лимон', 'quantity': 1, 'measure': 'шт'},\n",
    "     {'ingridient_name': 'вода', 'quantity': 200, 'measure': 'мл'},\n",
    "     {'ingridient_name': 'сахар', 'quantity': 10, 'measure': 'гр'},\n",
    "     {'ingridient_name': 'лайм', 'quantity': 20, 'measure': 'гр'},    \n",
    "    ]\n",
    "}"
   ]
  },
  {
   "cell_type": "markdown",
   "metadata": {},
   "source": [
    "Напишите программу (она может состоять из нескольких функций), которая будет запрашивать у пользователя количество гостей и список блюд, которые будут подаваться каждому гостю. В результате программа должна выдавать список покупок, состоящий из ингредиентов, которые нужно купить в магазине (если ингредиенты повторяются, то их нужно записать одной строкой, а не отдельно).\n",
    "\n",
    "Пример:\n",
    "\n",
    "вызов\\_главной\\_функций()\n",
    "\n",
    "Введите количество гостей: 3  \n",
    "Введите блюда через пробел: пицца пицца лимонад\n",
    "\n",
    "Список покупок:  \n",
    "сыр 120 гр  \n",
    "колбаса 180 гр  \n",
    "бекон 180 гр  \n",
    "оливки 60 гр  \n",
    "томаты 120 гр  \n",
    "тесто 600 гр  \n",
    "лимон 3 шт  \n",
    "вода 600 мл  \n",
    "сахар 30 гр  \n",
    "лайм 60 гр  "
   ]
  },
  {
   "cell_type": "markdown",
   "metadata": {},
   "source": [
    "## Задание 4"
   ]
  },
  {
   "cell_type": "markdown",
   "metadata": {},
   "source": [
    "Вы работаете секретарем и вам постоянно приходят различные документы. Вы должны быть очень внимательны, чтобы не потерять ни один документ. Каталог документов хранится в следующем виде:"
   ]
  },
  {
   "cell_type": "code",
   "execution_count": 29,
   "metadata": {},
   "outputs": [],
   "source": [
    "documents = [\n",
    "    {'type': 'passport', 'number': '2207 876234', 'name': 'Василий Гупкин'},\n",
    "    {'type': 'invoice', 'number': '11-2', 'name': 'Геннадий Покемонов'},\n",
    "    {'type': 'insurance', 'number': '10006', 'name': 'Аристарх Павлов'}\n",
    "]"
   ]
  },
  {
   "cell_type": "markdown",
   "metadata": {},
   "source": [
    "Перечень полок, на которых находятся документы хранится в следующем виде:"
   ]
  },
  {
   "cell_type": "code",
   "execution_count": 30,
   "metadata": {},
   "outputs": [],
   "source": [
    "directories = {\n",
    "    '1': ['2207 876234', '11-2', '5455 028765'],\n",
    "    '2': ['10006', '5400 028765', '5455 002299'],\n",
    "    '3': []\n",
    "}"
   ]
  },
  {
   "cell_type": "markdown",
   "metadata": {},
   "source": [
    "Необходимо реализовать пользовательские команды (внимание! это не название функций, которые должны быть выразительными, а команды, которые вводит пользователь, чтобы получить необходимый результат):\n",
    "  \n",
    "- p – people – команда, которая спросит номер документа и выведет имя человека, которому он принадлежит;  \n",
    "- s – shelf – команда, которая спросит номер документа и выведет номер полки, на которой он находится  \n",
    "Правильно обработайте ситуацию, когда пользователь будет вводить несуществующий документ."
   ]
  },
  {
   "cell_type": "code",
   "execution_count": 49,
   "metadata": {},
   "outputs": [
    {
     "name": "stdout",
     "output_type": "stream",
     "text": [
      "Введите команду (p, s, l, as, d) :d\n",
      "Введите номер документата для удаления:53\n",
      "Такого документа не существует в документах\n",
      "Такого документа не существует на полках\n"
     ]
    }
   ],
   "source": [
    "\n",
    "\n",
    "\n",
    "def err(n):\n",
    "    if n==\"p\" or n== \"s\" or n==\"l\" or n==\"as\" or n== \"d\" or n==\"m\":\n",
    "        return 1\n",
    "    else:\n",
    "            return 0\n",
    "        \n",
    "def errp(n):\n",
    "    for i in documents:\n",
    "        \n",
    "        if n == i[\"number\"]:\n",
    "            return documents.index(i)\n",
    "        \n",
    "    return -1\n",
    "\n",
    "def errs(n):\n",
    "    for i in directories:\n",
    "       \n",
    "        if n in directories[i]:\n",
    "            return i\n",
    "        \n",
    "    return 0\n",
    "\n",
    "def erras(n):\n",
    "    for i in directories:\n",
    "        \n",
    "       \n",
    "        if n == i:\n",
    "            return i\n",
    "        \n",
    "    return \"no\"\n",
    "\n",
    "def p_com():\n",
    "    for i in range(1,7) :\n",
    "    \n",
    "        k=input(\"Введите команду (p, s, l, as, d) :\")    \n",
    "        if err(k): break\n",
    "        else: \n",
    "            if i<5: print(\"Команда введена неверно. У вас есть еще \", 6-1-i,\"попыток\"   ) \n",
    "            else: \n",
    "                print (\"Команда введена неверно. Программа завершила работу!\") \n",
    "                break   \n",
    "    return k\n",
    "\n",
    "\n",
    "def p_name(k):\n",
    "            \n",
    "    if k==\"p\":\n",
    "        d=input(\"Ввведите номер документа разыскиваемого человека \")\n",
    "        nn=errp(d)\n",
    "        if nn <0:\n",
    "            print(\"Такого документа не существует\")\n",
    "        else:\n",
    "            print(\"Номер документа\", d, \"принадлежит\", documents[nn][\"name\"])\n",
    "    return     \n",
    "\n",
    "\n",
    "def p_pol(k):\n",
    "    if k==\"s\":\n",
    "        d=input(\"Ввведите номер документа разыскиваемого человека \")\n",
    "        nn=errs(d)\n",
    "        if nn ==0:\n",
    "            print(\"Такого документа не существует\")\n",
    "        else:\n",
    "            print(\"Документ с номером\", d, \"находится на полке\", nn)\n",
    "            \n",
    "    return\n",
    "\n",
    "def p_list(k):\n",
    "\n",
    "    if k==\"l\":\n",
    "        for i in documents:\n",
    "            print(i[\"type\"],\"\\\"\"+i[\"number\"]+\"\\\"\",\"\\\"\"+i[\"name\"]+\"\\\"\")\n",
    "    return\n",
    "\n",
    "            \n",
    "def p_ass(k):        \n",
    "    if k==\"as\":\n",
    "        d=input(\"Введите номер полки, которую необходимо добавить:\")\n",
    "        nn=erras(d)\n",
    "        if nn != \"no\":\n",
    "            print(\"Такая полка уже существует\")\n",
    "        else:\n",
    "            directories[d]=[]\n",
    "            print(\"Полка с номером\", d, \"добавлена\")\n",
    "    return\n",
    "\n",
    "def p_del(k):\n",
    "    \n",
    "    if k==\"d\":\n",
    "    \n",
    "        d=input(\"Введите номер документата для удаления:\")\n",
    "    \n",
    "        nn=errp(d)\n",
    "        if nn <0:\n",
    "            print(\"Такого документа не существует в документах\")\n",
    "        else:\n",
    "            \n",
    "            for i in documents:\n",
    "                \n",
    "                if i[\"number\"] == d:\n",
    "                    documents.remove(i)\n",
    "            \n",
    "            \n",
    "        nn=errs(d)\n",
    "        if nn ==0:\n",
    "            print(\"Такого документа не существует на полках\")\n",
    "        else:\n",
    "            for i in directories:\n",
    "                \n",
    "                if d in directories[i]:\n",
    "                    directories[i].remove(d)\n",
    "                \n",
    "    \n",
    "    \n",
    "    return\n",
    "\n",
    "def p_mov(k):\n",
    "    \n",
    "    \n",
    "\n",
    "\n",
    "    if k==\"m\":\n",
    "        print(\"Пока не реализовано\")\n",
    "        return\n",
    "        d=input(\"Введите номер документата для перемещения:\")\n",
    "    \n",
    "        nn=errp(d)\n",
    "        if nn <0:\n",
    "            print(\"Такого документа не существует в документах\")\n",
    "            return\n",
    "        else:\n",
    "            \n",
    "            for i in documents:\n",
    "                \n",
    "                if i[\"number\"] == d:\n",
    "                    documents.remove(i)\n",
    "            \n",
    "            \n",
    "        #for 1 in range(6):\n",
    "        \n",
    "            pp=input(\"Введите номер полки для перемещения\")\n",
    "                #if pp not in directories:\n",
    "                    #p_ass(\"as\")\n",
    "                #else break\n",
    "        \n",
    "        #directories[pp]=\n",
    "        \n",
    "                \n",
    "    \n",
    "    #print(documents)\n",
    "    #print(directories)\n",
    "    return    \n",
    "#----------------------------------\n",
    "#----------------------------------\n",
    "\n",
    "    \n",
    "k=p_com()\n",
    "    \n",
    "p_name(k)\n",
    "p_pol(k)\n",
    "p_list(k)\n",
    "p_ass(k)\n",
    "\n",
    "p_del(k)\n",
    "p_mov(k)\n",
    "\n"
   ]
  },
  {
   "cell_type": "code",
   "execution_count": 48,
   "metadata": {},
   "outputs": [
    {
     "name": "stdout",
     "output_type": "stream",
     "text": [
      "{'1': ['2207 876234', '11-2', '5455 028765'], '2': ['5400 028765', '5455 002299'], '3': [], '9': []}\n",
      "[{'type': 'passport', 'number': '2207 876234', 'name': 'Василий Гупкин'}, {'type': 'invoice', 'number': '11-2', 'name': 'Геннадий Покемонов'}]\n"
     ]
    }
   ],
   "source": [
    "print(directories)\n",
    "print(documents)"
   ]
  },
  {
   "cell_type": "code",
   "execution_count": null,
   "metadata": {},
   "outputs": [],
   "source": []
  },
  {
   "cell_type": "code",
   "execution_count": null,
   "metadata": {},
   "outputs": [],
   "source": [
    "#### Задание 5"
   ]
  },
  {
   "cell_type": "markdown",
   "metadata": {},
   "source": [
    "К условию из задания 5 реализуйте следующие команды:\n",
    "  \n",
    "- l – list – команда, которая выведет список всех документов в формате   \n",
    "**passport \"2207 876234\" \"Василий Гупкин\"**  \n",
    "- as – add shelf – команда, которая спросит номер новой полки и добавит ее в перечень"
   ]
  },
  {
   "cell_type": "code",
   "execution_count": null,
   "metadata": {},
   "outputs": [],
   "source": [
    "## Задание 6"
   ]
  },
  {
   "cell_type": "markdown",
   "metadata": {},
   "source": [
    "К условию из задания 5 реализуйте следующие команды:  \n",
    "  \n",
    "- d – delete – команда, которая спросит номер документа и удалит его из каталога и из перечня полок. Предусмотрите сценарий, когда пользователь вводит несуществующий документ;  \n",
    "- m – move – команда, которая спросит номер документа и целевую полку и переместит его с текущей полки на целевую. Корректно обработайте кейсы, когда пользователь пытается переместить несуществующий документ или переместить документ на несуществующую полку;  \n",
    "- a – add – команда, которая добавит новый документ в каталог и в перечень полок, спросив его номер, тип, имя владельца и номер полки, на котором он будет храниться."
   ]
  },
  {
   "cell_type": "code",
   "execution_count": null,
   "metadata": {},
   "outputs": [],
   "source": []
  }
 ],
 "metadata": {
  "kernelspec": {
   "display_name": "Python 3",
   "language": "python",
   "name": "python3"
  },
  "language_info": {
   "codemirror_mode": {
    "name": "ipython",
    "version": 3
   },
   "file_extension": ".py",
   "mimetype": "text/x-python",
   "name": "python",
   "nbconvert_exporter": "python",
   "pygments_lexer": "ipython3",
   "version": "3.7.3"
  }
 },
 "nbformat": 4,
 "nbformat_minor": 2
}
